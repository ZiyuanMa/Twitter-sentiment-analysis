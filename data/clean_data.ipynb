{
 "cells": [
  {
   "cell_type": "markdown",
   "metadata": {},
   "source": [
    "Use this file to clean the raw data and save the data to csv file"
   ]
  },
  {
   "cell_type": "code",
   "execution_count": 1,
   "metadata": {},
   "outputs": [],
   "source": [
    "import csv\n",
    "import re\n",
    "import pandas as pd\n",
    "import pickle\n",
    "import torch"
   ]
  },
  {
   "cell_type": "code",
   "execution_count": 2,
   "metadata": {},
   "outputs": [],
   "source": [
    "def clean(text):\n",
    "\n",
    "    text = re.sub(r'http\\S+','',text)\n",
    "    text = re.sub(r'@\\S*','',text)\n",
    "    text = re.sub(r'\\s+',' ',text)\n",
    "    return text"
   ]
  },
  {
   "cell_type": "code",
   "execution_count": 3,
   "metadata": {},
   "outputs": [],
   "source": [
    "training_data_name = ['twitter-2013dev-A.tsv', 'twitter-2013test-A.tsv', 'twitter-2013train-A.tsv',\n",
    "                     'twitter-2014sarcasm-A.tsv', 'twitter-2014test-A.tsv', 'twitter-2015test-A.tsv',\n",
    "                     'twitter-2015train-A.tsv', 'twitter-2016dev-A.tsv', 'twitter-2016devtest-A.tsv',\n",
    "                     'twitter-2016test-A.tsv', 'twitter-2016train-A.tsv']"
   ]
  },
  {
   "cell_type": "code",
   "execution_count": 4,
   "metadata": {},
   "outputs": [],
   "source": [
    "training_data = []\n",
    "for name in training_data_name:\n",
    "\n",
    "    with open('./raw_data/'+name) as f:\n",
    "        reader = csv.reader(f, delimiter='\\t')\n",
    "        for line in reader:\n",
    "            if len(line) < 3:\n",
    "                continue\n",
    "            sent = clean(line[2])\n",
    "            if sent is not None: \n",
    "                training_data.append([line[1], sent])"
   ]
  },
  {
   "cell_type": "code",
   "execution_count": 5,
   "metadata": {},
   "outputs": [],
   "source": [
    "with open('./modified_data/training_data.csv','w',newline='')as f:\n",
    "    ff=csv.writer(f)\n",
    "    ff.writerows(training_data)"
   ]
  },
  {
   "cell_type": "code",
   "execution_count": 6,
   "metadata": {},
   "outputs": [],
   "source": [
    "testing_data = []\n",
    "\n",
    "with open('./raw_data/SemEval2017-task4-test.subtask-A.english.txt') as f:\n",
    "    for line in f:\n",
    "        s = line.strip().split('\\t')\n",
    "        if len(s) < 3:\n",
    "            continue\n",
    "        sent = clean(s[2])\n",
    "        if sent is not None: \n",
    "            testing_data.append([s[1], sent])"
   ]
  },
  {
   "cell_type": "code",
   "execution_count": 7,
   "metadata": {},
   "outputs": [],
   "source": [
    "with open('./modified_data/testing_data.csv','w',newline='')as f:\n",
    "    ff=csv.writer(f)\n",
    "    ff.writerows(testing_data)"
   ]
  },
  {
   "cell_type": "code",
   "execution_count": 8,
   "metadata": {},
   "outputs": [],
   "source": [
    "kaggle_data = pd.read_csv(\"./raw_data/training.1600000.processed.noemoticon.csv\",header=None,encoding = \"latin-1\")"
   ]
  },
  {
   "cell_type": "code",
   "execution_count": 9,
   "metadata": {},
   "outputs": [],
   "source": [
    "kaggle_data = kaggle_data[[0,5]]\n",
    "kaggle_data[5] = kaggle_data[5].astype('str')\n",
    "kaggle_data[5]=kaggle_data[5].replace(r'@\\S*', '', regex=True).replace(r'http\\S+', '', regex=True).replace(r'\\s+', ' ', regex=True)\n",
    "kaggle_data = kaggle_data.loc[kaggle_data[5].str.len() >= 24]"
   ]
  },
  {
   "cell_type": "code",
   "execution_count": 10,
   "metadata": {},
   "outputs": [],
   "source": [
    "kaggle_data.to_csv('./modified_data/kaggle_data.csv', index=False, header=False)"
   ]
  },
  {
   "cell_type": "code",
   "execution_count": 11,
   "metadata": {},
   "outputs": [],
   "source": [
    "word_to_ix = dict()\n",
    "word_embeddings = torch.empty([658125,300],dtype=torch.float32)\n",
    "with open('./raw_data/datastories.twitter.300d.txt') as f:\n",
    "    for i, line in enumerate(f):\n",
    "        line = line.strip().split()\n",
    "        word_to_ix[line[0]] = len(word_to_ix)\n",
    "        word_vec = line[1:]\n",
    "        word_vec = [float(num) for num in word_vec]\n",
    "        word_embeddings[i] = torch.FloatTensor(word_vec)"
   ]
  },
  {
   "cell_type": "code",
   "execution_count": 12,
   "metadata": {},
   "outputs": [],
   "source": [
    "pickle.dump(word_to_ix,open('./modified_data/word_to_idx.pkl','wb'))\n",
    "pickle.dump(word_embeddings,open('./modified_data/word_embeddings.pkl','wb'))"
   ]
  },
  {
   "cell_type": "code",
   "execution_count": null,
   "metadata": {},
   "outputs": [],
   "source": []
  }
 ],
 "metadata": {
  "kernelspec": {
   "display_name": "Python 3",
   "language": "python",
   "name": "python3"
  },
  "language_info": {
   "codemirror_mode": {
    "name": "ipython",
    "version": 3
   },
   "file_extension": ".py",
   "mimetype": "text/x-python",
   "name": "python",
   "nbconvert_exporter": "python",
   "pygments_lexer": "ipython3",
   "version": "3.7.3"
  }
 },
 "nbformat": 4,
 "nbformat_minor": 2
}
